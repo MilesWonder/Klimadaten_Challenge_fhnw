{
 "cells": [
  {
   "cell_type": "markdown",
   "metadata": {},
   "source": [
    "# Datenbank"
   ]
  },
  {
   "cell_type": "markdown",
   "metadata": {},
   "source": [
    "### Installieren der Libraries"
   ]
  },
  {
   "cell_type": "code",
   "execution_count": 3,
   "metadata": {},
   "outputs": [
    {
     "name": "stdout",
     "output_type": "stream",
     "text": [
      "Requirement already satisfied: sqlalchemy in /Library/Frameworks/Python.framework/Versions/3.10/lib/python3.10/site-packages (1.4.36)\n",
      "Note: you may need to restart the kernel to use updated packages.\n",
      "Requirement already satisfied: pandas in /Library/Frameworks/Python.framework/Versions/3.10/lib/python3.10/site-packages (1.4.2)\n",
      "Requirement already satisfied: python-dateutil>=2.8.1 in /Library/Frameworks/Python.framework/Versions/3.10/lib/python3.10/site-packages (from pandas) (2.8.2)\n",
      "Requirement already satisfied: numpy>=1.21.0 in /Library/Frameworks/Python.framework/Versions/3.10/lib/python3.10/site-packages (from pandas) (1.21.6)\n",
      "Requirement already satisfied: pytz>=2020.1 in /Library/Frameworks/Python.framework/Versions/3.10/lib/python3.10/site-packages (from pandas) (2022.1)\n",
      "Requirement already satisfied: six>=1.5 in /Library/Frameworks/Python.framework/Versions/3.10/lib/python3.10/site-packages (from python-dateutil>=2.8.1->pandas) (1.16.0)\n",
      "Note: you may need to restart the kernel to use updated packages.\n",
      "Requirement already satisfied: numpy in /Library/Frameworks/Python.framework/Versions/3.10/lib/python3.10/site-packages (1.21.6)\n",
      "Note: you may need to restart the kernel to use updated packages.\n",
      "Collecting datetime\n",
      "  Downloading DateTime-4.4-py2.py3-none-any.whl (51 kB)\n",
      "\u001b[2K     \u001b[90m━━━━━━━━━━━━━━━━━━━━━━━━━━━━━━━━━━━━━━━━\u001b[0m \u001b[32m51.7/51.7 KB\u001b[0m \u001b[31m1.5 MB/s\u001b[0m eta \u001b[36m0:00:00\u001b[0m\n",
      "\u001b[?25hRequirement already satisfied: pytz in /Library/Frameworks/Python.framework/Versions/3.10/lib/python3.10/site-packages (from datetime) (2022.1)\n",
      "Collecting zope.interface\n",
      "  Downloading zope.interface-5.4.0.tar.gz (249 kB)\n",
      "\u001b[2K     \u001b[90m━━━━━━━━━━━━━━━━━━━━━━━━━━━━━━━━━━━━━━━\u001b[0m \u001b[32m249.3/249.3 KB\u001b[0m \u001b[31m6.4 MB/s\u001b[0m eta \u001b[36m0:00:00\u001b[0m00:01\u001b[0m\n",
      "\u001b[?25h  Preparing metadata (setup.py) ... \u001b[?25ldone\n",
      "\u001b[?25hRequirement already satisfied: setuptools in /Library/Frameworks/Python.framework/Versions/3.10/lib/python3.10/site-packages (from zope.interface->datetime) (58.1.0)\n",
      "Building wheels for collected packages: zope.interface\n",
      "  Building wheel for zope.interface (setup.py) ... \u001b[?25ldone\n",
      "\u001b[?25h  Created wheel for zope.interface: filename=zope.interface-5.4.0-cp310-cp310-macosx_10_9_universal2.whl size=219801 sha256=1a927fb0ed244b8b8f44f7f1e9477c5509c6792f321fdeb068a3ddb94c6efca3\n",
      "  Stored in directory: /Users/seancorrigan/Library/Caches/pip/wheels/21/a9/8b/0bfc5594d8e109d5b25d6b69e0cff14d09d93e3522dcb16d2b\n",
      "Successfully built zope.interface\n",
      "Installing collected packages: zope.interface, datetime\n",
      "Successfully installed datetime-4.4 zope.interface-5.4.0\n",
      "Note: you may need to restart the kernel to use updated packages.\n"
     ]
    }
   ],
   "source": [
    "%pip install sqlalchemy\n",
    "%pip install pandas\n",
    "%pip install numpy\n",
    "%pip install datetime"
   ]
  },
  {
   "cell_type": "markdown",
   "metadata": {},
   "source": [
    "### Importieren der Libraries"
   ]
  },
  {
   "cell_type": "code",
   "execution_count": 5,
   "metadata": {},
   "outputs": [],
   "source": [
    "import pandas as pd\n",
    "import numpy as np\n",
    "import sqlalchemy\n",
    "import sqlite3\n",
    "from datetime import datetime"
   ]
  },
  {
   "cell_type": "markdown",
   "metadata": {},
   "source": [
    "### Initialisierung Datenbank"
   ]
  },
  {
   "cell_type": "code",
   "execution_count": 6,
   "metadata": {},
   "outputs": [],
   "source": [
    "# Open connection with sqlit3 --> Databases is automaticly created if not initializes already\n",
    "con = sqlite3.connect(\"./data/Klimadaten.db\")\n",
    "\n",
    "# Create cursor for executables\n",
    "cur = con.cursor()"
   ]
  },
  {
   "cell_type": "code",
   "execution_count": 12,
   "metadata": {},
   "outputs": [
    {
     "name": "stdout",
     "output_type": "stream",
     "text": [
      "Table 'rainfall' already exists\n"
     ]
    }
   ],
   "source": [
    "# Create rainfall table\n",
    "query = \"\"\"\n",
    "CREATE TABLE rainfall (\n",
    "    ID INTEGER PRIMARY KEY,\n",
    "    timestamp DATETIME,\n",
    "    lat INTEGER,\n",
    "    lon INTEGER,\n",
    "    measurement REAL)\n",
    "\"\"\"\n",
    "\n",
    "try:\n",
    "    cur.execute(query)\n",
    "    print(\"Successfully initialized Table 'rainfall'\")\n",
    "except:\n",
    "    print(\"Table 'rainfall' already exists\")\n",
    "\n",
    "# Commit changes to Database\n",
    "con.commit()"
   ]
  },
  {
   "cell_type": "code",
   "execution_count": 13,
   "metadata": {},
   "outputs": [
    {
     "name": "stdout",
     "output_type": "stream",
     "text": [
      "Table 'extreme_events' already exists\n"
     ]
    }
   ],
   "source": [
    "# Create extreme_events table\n",
    "query = \"\"\"\n",
    "CREATE TABLE extreme_events (\n",
    "    ID INTEGER PRIMARY KEY,\n",
    "    timestamp DATETIME,\n",
    "    lat INTEGER,\n",
    "    lon INTEGER,\n",
    "    measurement REAL)\n",
    "\"\"\"\n",
    "\n",
    "try:\n",
    "    cur.execute(query)\n",
    "    print(\"Successfully initialized Table 'extreme_events'\")\n",
    "except:\n",
    "    print(\"Table 'extreme_events' already exists\")\n",
    "\n",
    "# Commit changes to Database\n",
    "con.commit()"
   ]
  },
  {
   "cell_type": "code",
   "execution_count": 14,
   "metadata": {},
   "outputs": [
    {
     "name": "stdout",
     "output_type": "stream",
     "text": [
      "Table 'agriculture' already exists\n"
     ]
    }
   ],
   "source": [
    "# Create agriculture table\n",
    "query = \"\"\"\n",
    "CREATE TABLE agriculture (\n",
    "    ID INTEGER PRIMARY KEY,\n",
    "    timestamp DATETIME,\n",
    "    measurement REAL)\n",
    "\"\"\"\n",
    "\n",
    "try:\n",
    "    cur.execute(query)\n",
    "    print(\"Successfully initialized Table 'agriculture'\")\n",
    "except:\n",
    "    print(\"Table 'agriculture' already exists\")\n",
    "\n",
    "# Commit changes to Database\n",
    "con.commit()"
   ]
  },
  {
   "cell_type": "code",
   "execution_count": 16,
   "metadata": {},
   "outputs": [
    {
     "name": "stdout",
     "output_type": "stream",
     "text": [
      "Table 'countries' already exists\n"
     ]
    }
   ],
   "source": [
    "# Create countries table\n",
    "query = \"\"\"\n",
    "CREATE TABLE countries (\n",
    "    ID INTEGER PRIMARY KEY,\n",
    "    lat INTEGER,\n",
    "    lon INTEGER,\n",
    "    country REAL)\n",
    "\"\"\"\n",
    "\n",
    "try:\n",
    "    cur.execute(query)\n",
    "    print(\"Successfully initialized Table 'countries'\")\n",
    "except:\n",
    "    print(\"Table 'countries' already exists\")\n",
    "\n",
    "# Commit changes to Database\n",
    "con.commit()"
   ]
  },
  {
   "cell_type": "markdown",
   "metadata": {},
   "source": [
    "### Load data into database"
   ]
  },
  {
   "cell_type": "code",
   "execution_count": 9,
   "metadata": {},
   "outputs": [],
   "source": [
    "# Create database engine\n",
    "engine = sqlalchemy.create_engine(\"sqlite:///./data/Klimadaten.db\")"
   ]
  },
  {
   "cell_type": "code",
   "execution_count": null,
   "metadata": {},
   "outputs": [],
   "source": [
    "# Load rainfall data\n",
    "colnames = ['timestamp', 'country', 'measurement']\n",
    "for df in pd.read_csv(\"./\", chunksize=1000):\n",
    "    df.to_sql('./data/Klimadaten.db', engine, if_exists='append', index=False)\n"
   ]
  },
  {
   "cell_type": "code",
   "execution_count": null,
   "metadata": {},
   "outputs": [],
   "source": [
    "# Load extreme_events data"
   ]
  },
  {
   "cell_type": "code",
   "execution_count": null,
   "metadata": {},
   "outputs": [],
   "source": [
    "# Load agriculture data"
   ]
  },
  {
   "cell_type": "code",
   "execution_count": null,
   "metadata": {},
   "outputs": [],
   "source": [
    "# Load extreme_events data"
   ]
  },
  {
   "cell_type": "markdown",
   "metadata": {},
   "source": [
    "### Verbindung mit Datenbank schliessen"
   ]
  },
  {
   "cell_type": "code",
   "execution_count": null,
   "metadata": {},
   "outputs": [],
   "source": [
    "# Close connection\n",
    "con.close()"
   ]
  }
 ],
 "metadata": {
  "interpreter": {
   "hash": "aee8b7b246df8f9039afb4144a1f6fd8d2ca17a180786b69acc140d282b71a49"
  },
  "kernelspec": {
   "display_name": "Python 3.10.4 64-bit",
   "language": "python",
   "name": "python3"
  },
  "language_info": {
   "codemirror_mode": {
    "name": "ipython",
    "version": 3
   },
   "file_extension": ".py",
   "mimetype": "text/x-python",
   "name": "python",
   "nbconvert_exporter": "python",
   "pygments_lexer": "ipython3",
   "version": "3.10.4"
  },
  "orig_nbformat": 4
 },
 "nbformat": 4,
 "nbformat_minor": 2
}
